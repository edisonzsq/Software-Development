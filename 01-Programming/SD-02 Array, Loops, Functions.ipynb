{
 "cells": [
  {
   "cell_type": "markdown",
   "metadata": {},
   "source": [
    "# Programming Basics\n",
    "# Arrays\n",
    "\n",
    "Variable of list (array) type is one of the most commonly used collection type in almost all languages.\n",
    "\n",
    "In Python strings are a list of single characters.  \n",
    "\n",
    "**Note:** + and * operators also works with Arrays as with string.\n",
    "\n",
    "## Index\n",
    "Each element in an array has a corresponding index.  \n",
    "The Indices of an array always starts from 0 in every programming language."
   ]
  },
  {
   "cell_type": "code",
   "execution_count": null,
   "metadata": {},
   "outputs": [],
   "source": [
    "python_list = []\n",
    "print(dir(python_list)[-11:])"
   ]
  },
  {
   "cell_type": "markdown",
   "metadata": {},
   "source": [
    "### TRY: Perform other python list operations"
   ]
  },
  {
   "cell_type": "code",
   "execution_count": null,
   "metadata": {},
   "outputs": [],
   "source": []
  },
  {
   "cell_type": "markdown",
   "metadata": {},
   "source": [
    "## Slice Operator ':'\n",
    "https://runestone.academy/runestone/books/published/thinkcspy/Strings/TheSliceOperator.html\n",
    "\n",
    "    array[:]\n",
    "    \n",
    "### TRY: slicing method in various ways: negative indices, start index, two ellipses"
   ]
  },
  {
   "cell_type": "code",
   "execution_count": null,
   "metadata": {},
   "outputs": [],
   "source": []
  },
  {
   "cell_type": "markdown",
   "metadata": {},
   "source": [
    "# Loops\n",
    "Loops are a common way to iterrate an activity.  \n",
    "One of the basic common loop in all programming languagues is the for loop.\n",
    "\n",
    "Python's syntax for loops is somewhat unique:\n",
    "\n",
    "    for <var> in <iterable>:\n",
    "      <statement(s)>\n",
    "\n",
    "### for ... loops"
   ]
  },
  {
   "cell_type": "code",
   "execution_count": null,
   "metadata": {},
   "outputs": [],
   "source": [
    "for count in range(6):\n",
    "    print(count)"
   ]
  },
  {
   "cell_type": "code",
   "execution_count": null,
   "metadata": {},
   "outputs": [],
   "source": [
    "for character in \"Yacht\":\n",
    "    print(character)"
   ]
  },
  {
   "cell_type": "markdown",
   "metadata": {},
   "source": [
    "### while ... loop"
   ]
  },
  {
   "cell_type": "code",
   "execution_count": null,
   "metadata": {},
   "outputs": [],
   "source": [
    "from random import randint\n",
    "text = \"\"\n",
    "\n",
    "while text != \"ok\":\n",
    "    dice = randint(1,6)\n",
    "    text = input(\"Dice value: {}. Key 'ok' if satisfied. \".format(dice))"
   ]
  },
  {
   "cell_type": "markdown",
   "metadata": {},
   "source": [
    "# Functions\n",
    "A simple rule is to never repeat ourselves.  \n",
    "If you find youself rewriting same piece of code, put it into a function."
   ]
  },
  {
   "cell_type": "code",
   "execution_count": null,
   "metadata": {},
   "outputs": [],
   "source": [
    "import time"
   ]
  },
  {
   "cell_type": "code",
   "execution_count": null,
   "metadata": {},
   "outputs": [],
   "source": [
    "def throw_dice():\n",
    "    # Statements or Expressions\n",
    "    start_time = time.time()\n",
    "    input(\"Press Enter to stop rolling dice.\")\n",
    "    dice = int((time.time() - start_time) * 10**3) % 6\n",
    "    if dice == 0:\n",
    "        dice = 6\n",
    "    return dice"
   ]
  },
  {
   "cell_type": "code",
   "execution_count": null,
   "metadata": {},
   "outputs": [],
   "source": [
    "# Calling function\n",
    "result = throw_dice()\n",
    "result"
   ]
  },
  {
   "cell_type": "markdown",
   "metadata": {},
   "source": [
    "### Exercise: Create functions that return the score of all the categories in a Yacht game\n",
    "https://en.wikipedia.org/wiki/Yacht_(dice_game)"
   ]
  },
  {
   "cell_type": "code",
   "execution_count": null,
   "metadata": {},
   "outputs": [],
   "source": [
    "def yacht_ones(hand):\n",
    "    score = 0\n",
    "    for dice in hand:\n",
    "        if dice == 1:\n",
    "            score += 1\n",
    "    return score"
   ]
  },
  {
   "cell_type": "code",
   "execution_count": null,
   "metadata": {},
   "outputs": [],
   "source": [
    "hand = throw_dice(6)\n",
    "print(hand)\n",
    "yacht_ones(hand)"
   ]
  },
  {
   "cell_type": "code",
   "execution_count": null,
   "metadata": {},
   "outputs": [],
   "source": []
  }
 ],
 "metadata": {
  "kernelspec": {
   "display_name": "Python 3",
   "language": "python",
   "name": "python3"
  },
  "language_info": {
   "codemirror_mode": {
    "name": "ipython",
    "version": 3
   },
   "file_extension": ".py",
   "mimetype": "text/x-python",
   "name": "python",
   "nbconvert_exporter": "python",
   "pygments_lexer": "ipython3",
   "version": "3.7.6"
  }
 },
 "nbformat": 4,
 "nbformat_minor": 2
}
