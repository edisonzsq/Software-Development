{
 "cells": [
  {
   "cell_type": "markdown",
   "metadata": {},
   "source": [
    "# Programming Basics\n",
    "## Syntax & Keywords & Operators"
   ]
  },
  {
   "cell_type": "code",
   "execution_count": null,
   "metadata": {},
   "outputs": [],
   "source": [
    "import keyword\n",
    "print(keyword.kwlist)"
   ]
  },
  {
   "cell_type": "markdown",
   "metadata": {},
   "source": [
    "## Hello World!"
   ]
  },
  {
   "cell_type": "code",
   "execution_count": null,
   "metadata": {},
   "outputs": [],
   "source": [
    "def hello(name):\n",
    "    print(\"Hello \" + name + \"!\")\n",
    "    return\n",
    "hello(\"World\")"
   ]
  },
  {
   "cell_type": "markdown",
   "metadata": {},
   "source": [
    "# Assignment Operator\n",
    "The **=** symbol is called an __assignment operator__.\n",
    "\n",
    "* **Operators** are special characters that is part of the Python syntax, and is recognized by the python language with special meaning and cannot be used as variables.\n",
    "* **Assignment operators** are used to the subset of operators to assign values to variables.\n",
    "\n",
    "\n",
    "And if we want to create an equation to use our variable, where the part to the right of the assignment operator is what we call an **expression** .  \n",
    "Python infers from the output of the expression the **type** of the variable. (https://docs.python.org/3/library/datatypes.html)"
   ]
  },
  {
   "cell_type": "markdown",
   "metadata": {},
   "source": [
    "# Variables\n",
    "\n",
    "Variables are named identifiers that are used to store information and the information stored can be changed and manipulated.\n",
    "\n",
    "In Python, we can create a variable by giving it a value without needing any initialisation to set it's type.\n",
    "\n",
    "## Variable Types\n",
    "Types refer to data type, whether it is string, integer, float.. etc.\n",
    "\n",
    "Python is a loosely typed language, meaning that a variable doesn't have to be fixed to a single type and can be \n",
    " * changed, and\n",
    " * inferred from assignment of value without initalising the type.\n",
    "\n",
    "Python has an in-built helper method <code>type()</code> that returns the type of a variable.\n",
    "### TRY: Find ways to define all the following variable types \n",
    "     int  float  str  bool  list "
   ]
  },
  {
   "cell_type": "code",
   "execution_count": null,
   "metadata": {},
   "outputs": [],
   "source": [
    "integer = \n",
    "type(integer)"
   ]
  },
  {
   "cell_type": "code",
   "execution_count": null,
   "metadata": {},
   "outputs": [],
   "source": [
    "floating_point = \n",
    "type(floating_point)"
   ]
  },
  {
   "cell_type": "code",
   "execution_count": null,
   "metadata": {},
   "outputs": [],
   "source": [
    "string = \n",
    "type(string)"
   ]
  },
  {
   "cell_type": "code",
   "execution_count": null,
   "metadata": {},
   "outputs": [],
   "source": [
    "boolean = \n",
    "type(boolean)"
   ]
  },
  {
   "cell_type": "code",
   "execution_count": null,
   "metadata": {},
   "outputs": [],
   "source": [
    "array = \n",
    "type(array)"
   ]
  },
  {
   "cell_type": "markdown",
   "metadata": {},
   "source": [
    "### TRY: find as many Python data types as possible"
   ]
  },
  {
   "cell_type": "code",
   "execution_count": null,
   "metadata": {},
   "outputs": [],
   "source": []
  },
  {
   "cell_type": "markdown",
   "metadata": {},
   "source": [
    "## Expressions\n",
    "There are many different types of expressions:-\n",
    " * Assignment statement\n",
    " * Arithmetic expressions\n",
    " * Comparison expressions\n",
    " * Conditional expressions\n",
    " etc ..."
   ]
  },
  {
   "cell_type": "code",
   "execution_count": null,
   "metadata": {},
   "outputs": [],
   "source": [
    "# Assignment Statement\n",
    "x = 1\n",
    "y = 2"
   ]
  },
  {
   "cell_type": "code",
   "execution_count": null,
   "metadata": {},
   "outputs": [],
   "source": [
    "# Arithmetic\n",
    "x + y"
   ]
  },
  {
   "cell_type": "code",
   "execution_count": null,
   "metadata": {},
   "outputs": [],
   "source": [
    "# Comparison:\n",
    "x > y"
   ]
  },
  {
   "cell_type": "code",
   "execution_count": null,
   "metadata": {},
   "outputs": [],
   "source": [
    "# Conditional\n",
    "if x < y:\n",
    "    print(str(x) + ' is smaller than ' + str(y))"
   ]
  },
  {
   "cell_type": "code",
   "execution_count": null,
   "metadata": {},
   "outputs": [],
   "source": []
  },
  {
   "cell_type": "code",
   "execution_count": null,
   "metadata": {},
   "outputs": [],
   "source": []
  },
  {
   "cell_type": "markdown",
   "metadata": {},
   "source": [
    "### if ... elif ... else\n",
    "Also known as if-then-else "
   ]
  },
  {
   "cell_type": "code",
   "execution_count": null,
   "metadata": {},
   "outputs": [],
   "source": [
    "if (type(integer) == int) and (integer > 0) and (integer <=6):\n",
    "    print(\"integer is a valid dice value.\")\n",
    "elif type(integer) != int:\n",
    "    print(\"integer has type \" + str(type(integer)))\n",
    "else:\n",
    "    print(\"integer has value outside a typical six-sided dice.\")"
   ]
  },
  {
   "cell_type": "markdown",
   "metadata": {},
   "source": [
    "### TRY: Create expressions describing all the functionalities of a calculator using different operators "
   ]
  },
  {
   "cell_type": "code",
   "execution_count": null,
   "metadata": {},
   "outputs": [],
   "source": [
    "x + y"
   ]
  },
  {
   "cell_type": "code",
   "execution_count": null,
   "metadata": {},
   "outputs": [],
   "source": [
    "a + b"
   ]
  },
  {
   "cell_type": "code",
   "execution_count": null,
   "metadata": {},
   "outputs": [],
   "source": []
  }
 ],
 "metadata": {
  "kernelspec": {
   "display_name": "Python 3",
   "language": "python",
   "name": "python3"
  },
  "language_info": {
   "codemirror_mode": {
    "name": "ipython",
    "version": 3
   },
   "file_extension": ".py",
   "mimetype": "text/x-python",
   "name": "python",
   "nbconvert_exporter": "python",
   "pygments_lexer": "ipython3",
   "version": "3.7.6"
  }
 },
 "nbformat": 4,
 "nbformat_minor": 2
}
